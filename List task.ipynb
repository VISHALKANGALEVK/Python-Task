{
 "cells": [
  {
   "cell_type": "markdown",
   "id": "6e688a3a",
   "metadata": {},
   "source": [
    "# Slicing"
   ]
  },
  {
   "cell_type": "markdown",
   "id": "4f907358",
   "metadata": {},
   "source": [
    "Extract a sublist using colon (:) syntax"
   ]
  },
  {
   "cell_type": "code",
   "execution_count": 43,
   "id": "46c7206b",
   "metadata": {},
   "outputs": [
    {
     "name": "stdout",
     "output_type": "stream",
     "text": [
      "['Tiger', 'Dog', 'Cat', 'Cow', 'Cheeta']\n",
      "['Tiger', 'Dog']\n",
      "['Tiger', 'Dog', 'Cat', 'Cow']\n",
      "['Cheeta', 'Cow', 'Cat', 'Dog', 'Tiger']\n"
     ]
    }
   ],
   "source": [
    "Animal = [\"Tiger\",\"Dog\", \"Cat\", \"Cow\",\"Cheeta\"]\n",
    "first_two = Animal[0:2]  # first_two will contain [\"Cat\",\"Cow\"]\n",
    "everything_except_last = Animal[:-1]  # everything_except_last will contain [\"Cheeta\", \"Tiger\"]\n",
    "animal = Animal[::-1]  # Animal will contain a reversed copy of the list\n",
    "\n",
    "print(Animal)\n",
    "print(first_two)\n",
    "print(everything_except_last)\n",
    "print(animal)"
   ]
  },
  {
   "cell_type": "markdown",
   "id": "06edbdc7",
   "metadata": {},
   "source": [
    "# Accessing Elements:"
   ]
  },
  {
   "cell_type": "markdown",
   "id": "f4292469",
   "metadata": {},
   "source": [
    "Use zero-based indexing to access elements:"
   ]
  },
  {
   "cell_type": "code",
   "execution_count": 41,
   "id": "c27d9461",
   "metadata": {},
   "outputs": [],
   "source": [
    "my_list = [\"Tiger\",\"Dog\", \"Cat\", \"Cow\",\"Cheeta\"]\n",
    "animal_animal = my_list[0]# animal_animal will contain \"Cat\"\n",
    "animal_animal1 = my_list[3] \n",
    "last_animal = my_list[-1]  # last_animal will contain \"Tiger\" (negative indexing)\n"
   ]
  },
  {
   "cell_type": "code",
   "execution_count": 42,
   "id": "423c97b7",
   "metadata": {},
   "outputs": [
    {
     "name": "stdout",
     "output_type": "stream",
     "text": [
      "['Tiger', 'Dog', 'Cat', 'Cow', 'Cheeta']\n",
      "Tiger\n",
      "Cow\n",
      "Cheeta\n"
     ]
    }
   ],
   "source": [
    "print(my_list)\n",
    "print(animal_animal)\n",
    "print(animal_animal1)\n",
    "\n",
    "print(last_animal)"
   ]
  },
  {
   "cell_type": "markdown",
   "id": "2f7a9596",
   "metadata": {},
   "source": [
    "# append function"
   ]
  },
  {
   "cell_type": "markdown",
   "id": "2f418199",
   "metadata": {},
   "source": [
    "Add an element to the end of list ."
   ]
  },
  {
   "cell_type": "code",
   "execution_count": 38,
   "id": "92f96b9a",
   "metadata": {},
   "outputs": [
    {
     "data": {
      "text/plain": [
       "['Tiger', 'Dog', 'Cat', 'Cow', 'Cheeta']"
      ]
     },
     "execution_count": 38,
     "metadata": {},
     "output_type": "execute_result"
    }
   ],
   "source": [
    "my_list = [\"Tiger\",\"Dog\", \"Cat\", \"Cow\",\"Cheeta\"]\n",
    "my_list"
   ]
  },
  {
   "cell_type": "code",
   "execution_count": 39,
   "id": "f0f2baed",
   "metadata": {},
   "outputs": [],
   "source": [
    "my_list.append(\"Lion\")  # Add \"Lion\" to the end\n"
   ]
  },
  {
   "cell_type": "code",
   "execution_count": 40,
   "id": "285fe4ff",
   "metadata": {},
   "outputs": [
    {
     "data": {
      "text/plain": [
       "['Tiger', 'Dog', 'Cat', 'Cow', 'Cheeta', 'Lion']"
      ]
     },
     "execution_count": 40,
     "metadata": {},
     "output_type": "execute_result"
    }
   ],
   "source": [
    "my_list"
   ]
  },
  {
   "cell_type": "markdown",
   "id": "4f57f602",
   "metadata": {},
   "source": [
    "# insert function"
   ]
  },
  {
   "cell_type": "markdown",
   "id": "6e211ad0",
   "metadata": {},
   "source": [
    " Insert an element at a specific index."
   ]
  },
  {
   "cell_type": "code",
   "execution_count": 33,
   "id": "2fcb26e1",
   "metadata": {},
   "outputs": [
    {
     "data": {
      "text/plain": [
       "['Tiger', 'Dog', 'Cat', 'Cow', 'Cheeta']"
      ]
     },
     "execution_count": 33,
     "metadata": {},
     "output_type": "execute_result"
    }
   ],
   "source": [
    "my_list = [\"Tiger\",\"Dog\", \"Cat\", \"Cow\",\"Cheeta\"]\n",
    "my_list"
   ]
  },
  {
   "cell_type": "code",
   "execution_count": 36,
   "id": "dc1ad02d",
   "metadata": {},
   "outputs": [],
   "source": [
    "my_list.insert(1, \"Elephant\")  # Insert \"Lion\" at index 1"
   ]
  },
  {
   "cell_type": "code",
   "execution_count": 37,
   "id": "03c4fb06",
   "metadata": {},
   "outputs": [
    {
     "data": {
      "text/plain": [
       "['Tiger', 'Elephant', 'Lion', 'Dog', 'Cat', 'Cow', 'Cheeta']"
      ]
     },
     "execution_count": 37,
     "metadata": {},
     "output_type": "execute_result"
    }
   ],
   "source": [
    "my_list"
   ]
  },
  {
   "cell_type": "markdown",
   "id": "73a14943",
   "metadata": {},
   "source": [
    "# extend function"
   ]
  },
  {
   "cell_type": "markdown",
   "id": "2010925d",
   "metadata": {},
   "source": [
    "Add all elements from an iterable"
   ]
  },
  {
   "cell_type": "code",
   "execution_count": 30,
   "id": "a4bfc862",
   "metadata": {},
   "outputs": [
    {
     "data": {
      "text/plain": [
       "['Tiger', 'Dog', 'Cat', 'Cow', 'Cheeta']"
      ]
     },
     "execution_count": 30,
     "metadata": {},
     "output_type": "execute_result"
    }
   ],
   "source": [
    "my_list = [\"Tiger\",\"Dog\", \"Cat\", \"Cow\",\"Cheeta\"]\n",
    "my_list"
   ]
  },
  {
   "cell_type": "code",
   "execution_count": 31,
   "id": "6ad9455c",
   "metadata": {},
   "outputs": [],
   "source": [
    "my_list.extend([\"Lion\", \"Elephent\"])  # Add all elements from a list\n"
   ]
  },
  {
   "cell_type": "code",
   "execution_count": 32,
   "id": "aa7a8ba3",
   "metadata": {},
   "outputs": [
    {
     "data": {
      "text/plain": [
       "['Tiger', 'Dog', 'Cat', 'Cow', 'Cheeta', 'Lion', 'Elephent']"
      ]
     },
     "execution_count": 32,
     "metadata": {},
     "output_type": "execute_result"
    }
   ],
   "source": [
    "my_list"
   ]
  },
  {
   "cell_type": "markdown",
   "id": "70203082",
   "metadata": {},
   "source": [
    "# remove function"
   ]
  },
  {
   "cell_type": "markdown",
   "id": "ed9b62c5",
   "metadata": {},
   "source": [
    "The remove function method removes a given element from the list.\n"
   ]
  },
  {
   "cell_type": "code",
   "execution_count": 27,
   "id": "26a10a23",
   "metadata": {},
   "outputs": [
    {
     "data": {
      "text/plain": [
       "['Tiger', 'Dog', 'Cat', 'Cow', 'Cheeta']"
      ]
     },
     "execution_count": 27,
     "metadata": {},
     "output_type": "execute_result"
    }
   ],
   "source": [
    "my_list = [\"Tiger\",\"Dog\", \"Cat\", \"Cow\",\"Cheeta\"]\n",
    "my_list"
   ]
  },
  {
   "cell_type": "code",
   "execution_count": 28,
   "id": "ca349527",
   "metadata": {},
   "outputs": [],
   "source": [
    "my_list.remove(\"Cat\")  # Remove the  \"Cat\"\n",
    "\n"
   ]
  },
  {
   "cell_type": "code",
   "execution_count": 29,
   "id": "53e21af5",
   "metadata": {},
   "outputs": [
    {
     "data": {
      "text/plain": [
       "['Tiger', 'Dog', 'Cow', 'Cheeta']"
      ]
     },
     "execution_count": 29,
     "metadata": {},
     "output_type": "execute_result"
    }
   ],
   "source": [
    "my_list"
   ]
  },
  {
   "cell_type": "markdown",
   "id": "69bdf66e",
   "metadata": {},
   "source": [
    "# pop function"
   ]
  },
  {
   "cell_type": "markdown",
   "id": "86024d61",
   "metadata": {},
   "source": [
    "Pop function removes element at a specific index from the list."
   ]
  },
  {
   "cell_type": "code",
   "execution_count": 24,
   "id": "96d0b1e9",
   "metadata": {},
   "outputs": [
    {
     "data": {
      "text/plain": [
       "['Tiger', 'Dog', 'Cat', 'Cow', 'Cheeta']"
      ]
     },
     "execution_count": 24,
     "metadata": {},
     "output_type": "execute_result"
    }
   ],
   "source": [
    "my_list = [\"Tiger\",\"Dog\", \"Cat\", \"Cow\",\"Cheeta\"]\n",
    "my_list"
   ]
  },
  {
   "cell_type": "code",
   "execution_count": 25,
   "id": "c7f86ce8",
   "metadata": {},
   "outputs": [],
   "source": [
    "removed_animal = my_list.pop(2)  # Remove and return the element at index 2\n"
   ]
  },
  {
   "cell_type": "code",
   "execution_count": 26,
   "id": "6d52bc28",
   "metadata": {},
   "outputs": [
    {
     "data": {
      "text/plain": [
       "['Tiger', 'Dog', 'Cow', 'Cheeta']"
      ]
     },
     "execution_count": 26,
     "metadata": {},
     "output_type": "execute_result"
    }
   ],
   "source": [
    "my_list"
   ]
  },
  {
   "cell_type": "markdown",
   "id": "cee72b92",
   "metadata": {},
   "source": [
    "# clear function"
   ]
  },
  {
   "cell_type": "markdown",
   "id": "70f0b277",
   "metadata": {},
   "source": [
    "Clear function method removes all items from the list making it an empty list."
   ]
  },
  {
   "cell_type": "code",
   "execution_count": 21,
   "id": "274511fb",
   "metadata": {},
   "outputs": [
    {
     "data": {
      "text/plain": [
       "['Tiger', 'Dog', 'Cat', 'Cow', 'Cheeta']"
      ]
     },
     "execution_count": 21,
     "metadata": {},
     "output_type": "execute_result"
    }
   ],
   "source": [
    "my_list = [\"Tiger\",\"Dog\", \"Cat\", \"Cow\",\"Cheeta\"]\n",
    "my_list"
   ]
  },
  {
   "cell_type": "code",
   "execution_count": 22,
   "id": "54504c7c",
   "metadata": {},
   "outputs": [],
   "source": [
    "my_list.clear()"
   ]
  },
  {
   "cell_type": "code",
   "execution_count": 23,
   "id": "e3d5c965",
   "metadata": {},
   "outputs": [
    {
     "data": {
      "text/plain": [
       "[]"
      ]
     },
     "execution_count": 23,
     "metadata": {},
     "output_type": "execute_result"
    }
   ],
   "source": [
    "my_list"
   ]
  },
  {
   "cell_type": "markdown",
   "id": "745722a6",
   "metadata": {},
   "source": [
    "# count function"
   ]
  },
  {
   "cell_type": "markdown",
   "id": "6ab539e0",
   "metadata": {},
   "source": [
    "This function method returns the count of the occurrences of a given element in a list."
   ]
  },
  {
   "cell_type": "code",
   "execution_count": 18,
   "id": "4f7e4f3a",
   "metadata": {},
   "outputs": [
    {
     "data": {
      "text/plain": [
       "['Tiger', 'Dog', 'Cat', 'Cow', 'Cheeta']"
      ]
     },
     "execution_count": 18,
     "metadata": {},
     "output_type": "execute_result"
    }
   ],
   "source": [
    "my_list = [\"Tiger\",\"Dog\", \"Cat\", \"Cow\",\"Cheeta\"]\n",
    "my_list"
   ]
  },
  {
   "cell_type": "code",
   "execution_count": 19,
   "id": "1531541b",
   "metadata": {},
   "outputs": [
    {
     "data": {
      "text/plain": [
       "1"
      ]
     },
     "execution_count": 19,
     "metadata": {},
     "output_type": "execute_result"
    }
   ],
   "source": [
    "my_list.count(\"Dog\")"
   ]
  },
  {
   "cell_type": "code",
   "execution_count": 20,
   "id": "80b4c7f9",
   "metadata": {},
   "outputs": [
    {
     "data": {
      "text/plain": [
       "1"
      ]
     },
     "execution_count": 20,
     "metadata": {},
     "output_type": "execute_result"
    }
   ],
   "source": [
    "my_list.count(\"Cat\")"
   ]
  },
  {
   "cell_type": "markdown",
   "id": "b7b10668",
   "metadata": {},
   "source": [
    "# sort function"
   ]
  },
  {
   "cell_type": "markdown",
   "id": "97a54a98",
   "metadata": {},
   "source": [
    "Sort the list in ascending order (in-place)"
   ]
  },
  {
   "cell_type": "code",
   "execution_count": 15,
   "id": "157f75f3",
   "metadata": {},
   "outputs": [
    {
     "data": {
      "text/plain": [
       "['Tiger', 'Dog', 'Cat', 'Cow', 'Cheeta']"
      ]
     },
     "execution_count": 15,
     "metadata": {},
     "output_type": "execute_result"
    }
   ],
   "source": [
    "my_list = [\"Tiger\",\"Dog\", \"Cat\", \"Cow\",\"Cheeta\"]\n",
    "my_list"
   ]
  },
  {
   "cell_type": "code",
   "execution_count": 16,
   "id": "f799bbb6",
   "metadata": {},
   "outputs": [],
   "source": [
    "my_list.sort()  # Sort in ascending order (in-place)"
   ]
  },
  {
   "cell_type": "code",
   "execution_count": 17,
   "id": "56b11a42",
   "metadata": {},
   "outputs": [
    {
     "data": {
      "text/plain": [
       "['Cat', 'Cheeta', 'Cow', 'Dog', 'Tiger']"
      ]
     },
     "execution_count": 17,
     "metadata": {},
     "output_type": "execute_result"
    }
   ],
   "source": [
    "my_list"
   ]
  },
  {
   "cell_type": "code",
   "execution_count": 14,
   "id": "79a0732c",
   "metadata": {},
   "outputs": [
    {
     "data": {
      "text/plain": [
       "[11, 12, 5, 35, 18, 23, 15, 11, 12, 5, 35, 73, 27, 38]"
      ]
     },
     "execution_count": 14,
     "metadata": {},
     "output_type": "execute_result"
    }
   ],
   "source": [
    "num = [11,12,5,35,18,23,15,11,12,5,35,73,27,38]\n",
    "num"
   ]
  },
  {
   "cell_type": "code",
   "execution_count": 9,
   "id": "294c9458",
   "metadata": {},
   "outputs": [],
   "source": [
    "num.sort()"
   ]
  },
  {
   "cell_type": "code",
   "execution_count": 10,
   "id": "a32647ca",
   "metadata": {},
   "outputs": [
    {
     "data": {
      "text/plain": [
       "[5, 5, 11, 11, 12, 12, 15, 18, 23, 27, 35, 35, 38, 73]"
      ]
     },
     "execution_count": 10,
     "metadata": {},
     "output_type": "execute_result"
    }
   ],
   "source": [
    "num"
   ]
  },
  {
   "cell_type": "markdown",
   "id": "c1742adb",
   "metadata": {},
   "source": [
    "# reverse function"
   ]
  },
  {
   "cell_type": "markdown",
   "id": "bee217c7",
   "metadata": {},
   "source": [
    "Reverse the order of elements"
   ]
  },
  {
   "cell_type": "code",
   "execution_count": 5,
   "id": "7a1c728a",
   "metadata": {},
   "outputs": [
    {
     "data": {
      "text/plain": [
       "[45, 25, 7, 9, 18, 23, 11, 12, 5, 35, 73, 27, 38, 48, 123, 73]"
      ]
     },
     "execution_count": 5,
     "metadata": {},
     "output_type": "execute_result"
    }
   ],
   "source": [
    "num = [45,25,7,9,18,23,11,12,5,35,73,27,38,48,123,73]\n",
    "num"
   ]
  },
  {
   "cell_type": "code",
   "execution_count": 6,
   "id": "57cd2118",
   "metadata": {},
   "outputs": [],
   "source": [
    "num.reverse()  # Reverse the order "
   ]
  },
  {
   "cell_type": "code",
   "execution_count": 7,
   "id": "b0cc7f64",
   "metadata": {},
   "outputs": [
    {
     "data": {
      "text/plain": [
       "[73, 123, 48, 38, 27, 73, 35, 5, 12, 11, 23, 18, 9, 7, 25, 45]"
      ]
     },
     "execution_count": 7,
     "metadata": {},
     "output_type": "execute_result"
    }
   ],
   "source": [
    "num"
   ]
  },
  {
   "cell_type": "markdown",
   "id": "b1590ea2",
   "metadata": {},
   "source": [
    "# min function\n"
   ]
  },
  {
   "cell_type": "markdown",
   "id": "b936e5a1",
   "metadata": {},
   "source": [
    "Min function returns the smallest element."
   ]
  },
  {
   "cell_type": "code",
   "execution_count": 3,
   "id": "aa250953",
   "metadata": {},
   "outputs": [
    {
     "data": {
      "text/plain": [
       "[20, 15, 45, 25, 7, 9, 18, 23, 20, 83, 783, 83, 28, 498]"
      ]
     },
     "execution_count": 3,
     "metadata": {},
     "output_type": "execute_result"
    }
   ],
   "source": [
    "num = [20,15,45,25,7,9,18,23,20,83,783,83,28,498,]\n",
    "num"
   ]
  },
  {
   "cell_type": "code",
   "execution_count": 4,
   "id": "c7772135",
   "metadata": {},
   "outputs": [
    {
     "data": {
      "text/plain": [
       "7"
      ]
     },
     "execution_count": 4,
     "metadata": {},
     "output_type": "execute_result"
    }
   ],
   "source": [
    "min(num)"
   ]
  },
  {
   "cell_type": "markdown",
   "id": "4b2c45de",
   "metadata": {},
   "source": [
    "# max function"
   ]
  },
  {
   "cell_type": "markdown",
   "id": "b5d9ad77",
   "metadata": {},
   "source": [
    "Max function return the largest element."
   ]
  },
  {
   "cell_type": "code",
   "execution_count": 1,
   "id": "70287aa9",
   "metadata": {},
   "outputs": [
    {
     "data": {
      "text/plain": [
       "[20, 83, 783, 83, 28, 498, 29, 27, 346, 378, 47, 37, 38, 48, 39]"
      ]
     },
     "execution_count": 1,
     "metadata": {},
     "output_type": "execute_result"
    }
   ],
   "source": [
    "num = [20,83,783,83,28,498,29,27,346,378,47,37,38,48,39]\n",
    "num"
   ]
  },
  {
   "cell_type": "code",
   "execution_count": 2,
   "id": "b6668512",
   "metadata": {},
   "outputs": [
    {
     "data": {
      "text/plain": [
       "783"
      ]
     },
     "execution_count": 2,
     "metadata": {},
     "output_type": "execute_result"
    }
   ],
   "source": [
    "max(num)"
   ]
  },
  {
   "cell_type": "code",
   "execution_count": null,
   "id": "6c27da28",
   "metadata": {},
   "outputs": [],
   "source": []
  }
 ],
 "metadata": {
  "kernelspec": {
   "display_name": "Python 3 (ipykernel)",
   "language": "python",
   "name": "python3"
  },
  "language_info": {
   "codemirror_mode": {
    "name": "ipython",
    "version": 3
   },
   "file_extension": ".py",
   "mimetype": "text/x-python",
   "name": "python",
   "nbconvert_exporter": "python",
   "pygments_lexer": "ipython3",
   "version": "3.11.0"
  }
 },
 "nbformat": 4,
 "nbformat_minor": 5
}
