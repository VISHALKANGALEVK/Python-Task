{
 "cells": [
  {
   "cell_type": "markdown",
   "id": "064537a9-df13-43f0-a5f6-7c288379bc4e",
   "metadata": {},
   "source": [
    "# Sets"
   ]
  },
  {
   "cell_type": "markdown",
   "id": "991dea45-a311-4937-9a1e-c818a6078648",
   "metadata": {},
   "source": [
    "Sets are used to store multiple items in a single variable.\n",
    "A set is a collection which is unordered and unchangeable."
   ]
  },
  {
   "cell_type": "code",
   "execution_count": 1,
   "id": "929721ad-70b6-4349-bd33-3f7267539f81",
   "metadata": {},
   "outputs": [],
   "source": [
    "\n",
    "empty_set = set()"
   ]
  },
  {
   "cell_type": "code",
   "execution_count": 2,
   "id": "02838f2a-958d-4d66-96e7-0c16def72472",
   "metadata": {},
   "outputs": [
    {
     "data": {
      "text/plain": [
       "set"
      ]
     },
     "execution_count": 2,
     "metadata": {},
     "output_type": "execute_result"
    }
   ],
   "source": [
    "type(empty_set)"
   ]
  },
  {
   "cell_type": "code",
   "execution_count": 2,
   "id": "83d2e660-f7d7-401c-aff3-e1e94197a599",
   "metadata": {},
   "outputs": [],
   "source": [
    "non_empty_set = {1,2,3,'xyz'}"
   ]
  },
  {
   "cell_type": "code",
   "execution_count": 3,
   "id": "4f794054-9b96-48d6-9fd6-6e33b906e109",
   "metadata": {},
   "outputs": [
    {
     "data": {
      "text/plain": [
       "set"
      ]
     },
     "execution_count": 3,
     "metadata": {},
     "output_type": "execute_result"
    }
   ],
   "source": [
    "type(non_empty_set)"
   ]
  },
  {
   "cell_type": "markdown",
   "id": "e18a6b8f-8338-4069-a37b-f5217d1dbe3d",
   "metadata": {},
   "source": [
    "# Functions of Sets"
   ]
  },
  {
   "cell_type": "markdown",
   "id": "e3228f0b-3353-40f1-a92a-5d906cdc2662",
   "metadata": {},
   "source": [
    "# Add"
   ]
  },
  {
   "cell_type": "markdown",
   "id": "95dde6b3-7db1-4a9e-a165-ae54172b30b9",
   "metadata": {},
   "source": [
    "This method takes the element to be added as an argument"
   ]
  },
  {
   "cell_type": "code",
   "execution_count": 4,
   "id": "3195e87d-0a1b-477d-93af-d9d7e38c02eb",
   "metadata": {},
   "outputs": [],
   "source": [
    "my_set = set()\n",
    "my_set.add('A')"
   ]
  },
  {
   "cell_type": "code",
   "execution_count": 5,
   "id": "674a0f83-f56c-4d64-ac88-f25fbff865be",
   "metadata": {},
   "outputs": [
    {
     "data": {
      "text/plain": [
       "{'A'}"
      ]
     },
     "execution_count": 5,
     "metadata": {},
     "output_type": "execute_result"
    }
   ],
   "source": [
    "my_set"
   ]
  },
  {
   "cell_type": "code",
   "execution_count": 6,
   "id": "7686cb8a-2cfb-4318-b6db-321cdebbe5bb",
   "metadata": {},
   "outputs": [],
   "source": [
    "my_set.add(1)"
   ]
  },
  {
   "cell_type": "code",
   "execution_count": 7,
   "id": "5274c7e1-8139-4561-aa28-000cebdde685",
   "metadata": {},
   "outputs": [
    {
     "data": {
      "text/plain": [
       "{1, 'A'}"
      ]
     },
     "execution_count": 7,
     "metadata": {},
     "output_type": "execute_result"
    }
   ],
   "source": [
    "my_set"
   ]
  },
  {
   "cell_type": "markdown",
   "id": "cb1258a0-7623-4589-a108-b2fdcb5313a8",
   "metadata": {},
   "source": [
    "# Update"
   ]
  },
  {
   "cell_type": "markdown",
   "id": "4e565721-34dc-4d74-81a4-919a819b15f1",
   "metadata": {},
   "source": [
    "This method helps to add multiple elements to a set"
   ]
  },
  {
   "cell_type": "code",
   "execution_count": 9,
   "id": "2b87d3c0-7ff0-4db8-9a79-5c4bbab66793",
   "metadata": {},
   "outputs": [],
   "source": [
    "My_set = {1,2,3,4}"
   ]
  },
  {
   "cell_type": "code",
   "execution_count": 12,
   "id": "e3e24c29-31c3-4657-91aa-ec7757e75b46",
   "metadata": {},
   "outputs": [
    {
     "name": "stdout",
     "output_type": "stream",
     "text": [
      "{1, 2, 3, 4, 5, 6, 7}\n"
     ]
    }
   ],
   "source": [
    "My_set.update([5, 6, 7])\n",
    "print(My_set)"
   ]
  },
  {
   "cell_type": "markdown",
   "id": "1614e907-14f6-4701-8aa8-8645476a62f5",
   "metadata": {},
   "source": [
    "# Remove"
   ]
  },
  {
   "cell_type": "markdown",
   "id": "1c76daf2-fa56-416a-94d4-a05fcad2e401",
   "metadata": {},
   "source": [
    "Use remove function to remove an item/element from the set."
   ]
  },
  {
   "cell_type": "code",
   "execution_count": 13,
   "id": "fae60464-cb5e-4da5-b512-2d2a105217f3",
   "metadata": {},
   "outputs": [],
   "source": [
    "mset = {1,5,6,3,2}"
   ]
  },
  {
   "cell_type": "code",
   "execution_count": 14,
   "id": "96573a7b-01f4-401e-9d03-f86a5190f0ea",
   "metadata": {},
   "outputs": [
    {
     "data": {
      "text/plain": [
       "{1, 2, 3, 5, 6}"
      ]
     },
     "execution_count": 14,
     "metadata": {},
     "output_type": "execute_result"
    }
   ],
   "source": [
    "mset"
   ]
  },
  {
   "cell_type": "code",
   "execution_count": 15,
   "id": "f6ade9a9-1a77-4d33-bba7-4a629fb9e93f",
   "metadata": {},
   "outputs": [],
   "source": [
    "mset.remove(5)"
   ]
  },
  {
   "cell_type": "code",
   "execution_count": 16,
   "id": "b23a3dc3-d967-421c-b73e-ec1c4cbbee34",
   "metadata": {},
   "outputs": [
    {
     "data": {
      "text/plain": [
       "{1, 2, 3, 6}"
      ]
     },
     "execution_count": 16,
     "metadata": {},
     "output_type": "execute_result"
    }
   ],
   "source": [
    "mset"
   ]
  },
  {
   "cell_type": "markdown",
   "id": "419ee13c-8599-4a4a-8030-6a72effe9088",
   "metadata": {},
   "source": [
    "# Union"
   ]
  },
  {
   "cell_type": "markdown",
   "id": "6afad8d5-87c9-4f25-844e-a516b37d4f92",
   "metadata": {},
   "source": [
    "This method returns the union of two sets"
   ]
  },
  {
   "cell_type": "code",
   "execution_count": 18,
   "id": "b51b9a19-9838-40e5-bff9-f13d392b7547",
   "metadata": {},
   "outputs": [],
   "source": [
    "A = {1, 2, 3, 4, 5}\n",
    "B = {4, 5, 6, 7, 8}"
   ]
  },
  {
   "cell_type": "code",
   "execution_count": 19,
   "id": "009634cb-ea17-415d-abe4-36276c470f33",
   "metadata": {},
   "outputs": [
    {
     "data": {
      "text/plain": [
       "{1, 2, 3, 4, 5, 6, 7, 8}"
      ]
     },
     "execution_count": 19,
     "metadata": {},
     "output_type": "execute_result"
    }
   ],
   "source": [
    "A.union(B)\n"
   ]
  },
  {
   "cell_type": "code",
   "execution_count": 20,
   "id": "955a0411-55c8-45d2-9164-c1b5baee3e62",
   "metadata": {},
   "outputs": [
    {
     "data": {
      "text/plain": [
       "{1, 2, 3, 4, 5, 6, 7, 8}"
      ]
     },
     "execution_count": 20,
     "metadata": {},
     "output_type": "execute_result"
    }
   ],
   "source": [
    "\n",
    "A | B"
   ]
  },
  {
   "cell_type": "markdown",
   "id": "e6bb1620-e604-4a23-af34-7ba1dac4abbe",
   "metadata": {},
   "source": [
    "# Intersection"
   ]
  },
  {
   "cell_type": "markdown",
   "id": "9d42aed0-66a8-4f89-a7be-1c52697ee689",
   "metadata": {},
   "source": [
    "It returns the intersection of two sets"
   ]
  },
  {
   "cell_type": "code",
   "execution_count": 21,
   "id": "4414e67a-f82c-4c86-9705-4303de5fb44d",
   "metadata": {},
   "outputs": [],
   "source": [
    "A = {1, 2, 3, 4, 5}\n",
    "B = {4, 5, 6, 7, 8}"
   ]
  },
  {
   "cell_type": "code",
   "execution_count": 22,
   "id": "1a4ba0ff-c3a7-4b6f-b1e4-df3436b24d06",
   "metadata": {},
   "outputs": [
    {
     "data": {
      "text/plain": [
       "{4, 5}"
      ]
     },
     "execution_count": 22,
     "metadata": {},
     "output_type": "execute_result"
    }
   ],
   "source": [
    "A.intersection(B)"
   ]
  },
  {
   "cell_type": "code",
   "execution_count": 23,
   "id": "cc0ca80b-59f3-4cf4-b3d5-8af76c997ab1",
   "metadata": {},
   "outputs": [
    {
     "data": {
      "text/plain": [
       "{4, 5}"
      ]
     },
     "execution_count": 23,
     "metadata": {},
     "output_type": "execute_result"
    }
   ],
   "source": [
    "A & B"
   ]
  },
  {
   "cell_type": "markdown",
   "id": "4d020fc9-315d-43e8-9329-cb1ca9683494",
   "metadata": {},
   "source": [
    "# Difference"
   ]
  },
  {
   "cell_type": "markdown",
   "id": "5d217ed3-47f5-4801-941b-d060c46331fb",
   "metadata": {},
   "source": [
    "It Returns a new set with elements that are in the set but not in the others.\n"
   ]
  },
  {
   "cell_type": "code",
   "execution_count": 24,
   "id": "50b9c65b-1d8c-43b5-8bf6-e90f08759b60",
   "metadata": {},
   "outputs": [],
   "source": [
    "A = {1, 2, 3, 4, 5}\n",
    "B = {4, 5, 6, 7, 8}"
   ]
  },
  {
   "cell_type": "code",
   "execution_count": 25,
   "id": "c8ed88d9-a3b1-4a14-9531-cc7de194881a",
   "metadata": {},
   "outputs": [
    {
     "data": {
      "text/plain": [
       "{1, 2, 3}"
      ]
     },
     "execution_count": 25,
     "metadata": {},
     "output_type": "execute_result"
    }
   ],
   "source": [
    "A.difference(B)"
   ]
  },
  {
   "cell_type": "code",
   "execution_count": 26,
   "id": "59782ae4-5290-493e-993d-150d6f3b7970",
   "metadata": {},
   "outputs": [
    {
     "data": {
      "text/plain": [
       "{1, 2, 3}"
      ]
     },
     "execution_count": 26,
     "metadata": {},
     "output_type": "execute_result"
    }
   ],
   "source": [
    "# Also denoted by the operator -\n",
    "A - B"
   ]
  },
  {
   "cell_type": "code",
   "execution_count": 27,
   "id": "0f56c4b0-3c31-4b01-8614-aac90a1f6dac",
   "metadata": {},
   "outputs": [
    {
     "data": {
      "text/plain": [
       "{6, 7, 8}"
      ]
     },
     "execution_count": 27,
     "metadata": {},
     "output_type": "execute_result"
    }
   ],
   "source": [
    "B.difference(A)"
   ]
  },
  {
   "cell_type": "markdown",
   "id": "cda01559",
   "metadata": {},
   "source": [
    "# Clear"
   ]
  },
  {
   "cell_type": "markdown",
   "id": "c3162801",
   "metadata": {},
   "source": [
    "It Removes all elements from the set, leaving it empty."
   ]
  },
  {
   "cell_type": "code",
   "execution_count": 28,
   "id": "51c8e3e8",
   "metadata": {},
   "outputs": [
    {
     "data": {
      "text/plain": [
       "{10, 20, 30, 40, 50, 60}"
      ]
     },
     "execution_count": 28,
     "metadata": {},
     "output_type": "execute_result"
    }
   ],
   "source": [
    "set1 = {10,20,30,40,50,60}\n",
    "set1"
   ]
  },
  {
   "cell_type": "code",
   "execution_count": 29,
   "id": "919b7507",
   "metadata": {},
   "outputs": [],
   "source": [
    "set1.clear()"
   ]
  },
  {
   "cell_type": "code",
   "execution_count": 30,
   "id": "48327d5b",
   "metadata": {},
   "outputs": [
    {
     "data": {
      "text/plain": [
       "set()"
      ]
     },
     "execution_count": 30,
     "metadata": {},
     "output_type": "execute_result"
    }
   ],
   "source": [
    "set1"
   ]
  },
  {
   "cell_type": "markdown",
   "id": "78bf2ad4",
   "metadata": {},
   "source": [
    "# Discard"
   ]
  },
  {
   "cell_type": "markdown",
   "id": "b68a368c",
   "metadata": {},
   "source": [
    "It Removes an element elem from the set if it is a member. If the element is not a member, do nothing."
   ]
  },
  {
   "cell_type": "code",
   "execution_count": 31,
   "id": "11f5a522",
   "metadata": {},
   "outputs": [
    {
     "data": {
      "text/plain": [
       "{10, 20, 30, 40, 50, 60}"
      ]
     },
     "execution_count": 31,
     "metadata": {},
     "output_type": "execute_result"
    }
   ],
   "source": [
    "set1 = {10,20,30,40,50,60}\n",
    "set1"
   ]
  },
  {
   "cell_type": "code",
   "execution_count": 32,
   "id": "7e45eb01",
   "metadata": {},
   "outputs": [],
   "source": [
    "set1.discard(30)"
   ]
  },
  {
   "cell_type": "code",
   "execution_count": 33,
   "id": "15df4309",
   "metadata": {},
   "outputs": [
    {
     "data": {
      "text/plain": [
       "{10, 20, 40, 50, 60}"
      ]
     },
     "execution_count": 33,
     "metadata": {},
     "output_type": "execute_result"
    }
   ],
   "source": [
    "set1"
   ]
  },
  {
   "cell_type": "code",
   "execution_count": null,
   "id": "367e2ad7",
   "metadata": {},
   "outputs": [],
   "source": []
  }
 ],
 "metadata": {
  "kernelspec": {
   "display_name": "Python 3 (ipykernel)",
   "language": "python",
   "name": "python3"
  },
  "language_info": {
   "codemirror_mode": {
    "name": "ipython",
    "version": 3
   },
   "file_extension": ".py",
   "mimetype": "text/x-python",
   "name": "python",
   "nbconvert_exporter": "python",
   "pygments_lexer": "ipython3",
   "version": "3.11.3"
  }
 },
 "nbformat": 4,
 "nbformat_minor": 5
}
